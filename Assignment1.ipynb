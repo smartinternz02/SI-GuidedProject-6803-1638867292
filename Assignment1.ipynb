{
 "cells": [
  {
   "cell_type": "code",
   "execution_count": 10,
   "metadata": {},
   "outputs": [],
   "source": [
    "# 1. What is 7 to the power of 4?"
   ]
  },
  {
   "cell_type": "code",
   "execution_count": 13,
   "metadata": {},
   "outputs": [
    {
     "name": "stdout",
     "output_type": "stream",
     "text": [
      "2401\n"
     ]
    }
   ],
   "source": [
    "print(pow(7,4))"
   ]
  },
  {
   "cell_type": "code",
   "execution_count": null,
   "metadata": {},
   "outputs": [],
   "source": []
  },
  {
   "cell_type": "code",
   "execution_count": 14,
   "metadata": {},
   "outputs": [],
   "source": [
    "# 2.  Split this string into a list. \n",
    "#    s = \"Hi there Sam!\""
   ]
  },
  {
   "cell_type": "code",
   "execution_count": 22,
   "metadata": {},
   "outputs": [
    {
     "name": "stdout",
     "output_type": "stream",
     "text": [
      "['Hi', 'there', 'Sam!']\n"
     ]
    }
   ],
   "source": [
    "str = \"Hi there Sam!\"\n",
    "l=str.split()\n",
    "print(l)"
   ]
  },
  {
   "cell_type": "code",
   "execution_count": 23,
   "metadata": {},
   "outputs": [
    {
     "data": {
      "text/plain": [
       "list"
      ]
     },
     "execution_count": 23,
     "metadata": {},
     "output_type": "execute_result"
    }
   ],
   "source": [
    "type(l)"
   ]
  },
  {
   "cell_type": "code",
   "execution_count": null,
   "metadata": {},
   "outputs": [],
   "source": []
  },
  {
   "cell_type": "code",
   "execution_count": 24,
   "metadata": {},
   "outputs": [],
   "source": [
    "# 3.Given the variables\n",
    "#     planet = \"Earth\"\n",
    "#     diameter = 12742\n",
    "# Use .format() to print the following string\n",
    "# The diameter of Earth is 12742 kilometers."
   ]
  },
  {
   "cell_type": "code",
   "execution_count": 25,
   "metadata": {},
   "outputs": [
    {
     "name": "stdout",
     "output_type": "stream",
     "text": [
      "The diameter of Earth is 12742 kilometers.\n"
     ]
    }
   ],
   "source": [
    "planet = \"Earth\"\n",
    "diameter = 12742\n",
    "str = \"The diameter of {} is {} kilometers.\"\n",
    "print(str.format(planet,diameter))"
   ]
  },
  {
   "cell_type": "code",
   "execution_count": null,
   "metadata": {},
   "outputs": [],
   "source": []
  },
  {
   "cell_type": "code",
   "execution_count": 27,
   "metadata": {},
   "outputs": [],
   "source": [
    "# 4.Given this nested list, use indexing to grab the word \"hello\n",
    "#     lst = [1,2,[3,4],[5,[100,200,['hello']],23,11],1,7]\n"
   ]
  },
  {
   "cell_type": "code",
   "execution_count": 28,
   "metadata": {},
   "outputs": [],
   "source": [
    "lst = [1,2,[3,4],[5,[100,200,['hello']],23,11],1,7]"
   ]
  },
  {
   "cell_type": "code",
   "execution_count": 51,
   "metadata": {},
   "outputs": [
    {
     "name": "stdout",
     "output_type": "stream",
     "text": [
      "hello\n"
     ]
    }
   ],
   "source": [
    "print(lst[3][1][2][0])"
   ]
  },
  {
   "cell_type": "code",
   "execution_count": null,
   "metadata": {},
   "outputs": [],
   "source": []
  },
  {
   "cell_type": "code",
   "execution_count": 52,
   "metadata": {},
   "outputs": [],
   "source": [
    "# 5. Given this nested dictionary grab the word \"hello\". Be prepared, this will be annoying/tricky\n",
    "#     d = {'k1':[1,2,3,{'tricky':['oh','man','inception',{'target':[1,2,3,'hello']}]}]}\n"
   ]
  },
  {
   "cell_type": "code",
   "execution_count": 16,
   "metadata": {},
   "outputs": [
    {
     "name": "stdout",
     "output_type": "stream",
     "text": [
      "hello\n"
     ]
    }
   ],
   "source": [
    "d = {'k1':[1,2,3,{'tricky':['oh','man','inception',{'target':[1,2,3,'hello']}]}]}\n",
    "print(d['k1'][3]['tricky'][3]['target'][3])"
   ]
  },
  {
   "cell_type": "code",
   "execution_count": null,
   "metadata": {},
   "outputs": [],
   "source": []
  },
  {
   "cell_type": "code",
   "execution_count": 17,
   "metadata": {},
   "outputs": [],
   "source": [
    "# 6.What is the main difference between a tuple and a list?"
   ]
  },
  {
   "cell_type": "code",
   "execution_count": null,
   "metadata": {},
   "outputs": [],
   "source": [
    "List\n",
    "* It is mutable\n",
    "* Consumes more memory.\n",
    "* Many built-in methods.\n",
    "* Unexpected errors and changes can easily occur in lists.\n",
    "\n",
    "l = [1,2,3,4]\n",
    "\n",
    "Tuple\n",
    "* It is immutable\n",
    "* Consumes less memory.\n",
    "* Does not have many built-in methods.\n",
    "* Unexpected errors and changes rarely occur in tuples.\n",
    "\n",
    " \n",
    "t=(1,2,3,4)\n"
   ]
  },
  {
   "cell_type": "code",
   "execution_count": null,
   "metadata": {},
   "outputs": [],
   "source": []
  },
  {
   "cell_type": "code",
   "execution_count": 19,
   "metadata": {},
   "outputs": [],
   "source": [
    "# 7.Create a function that grabs the email website domain from a string in the form : user@domain.com\n",
    "#     So for example, passing \"user@domain.com\" would return: domain.com"
   ]
  },
  {
   "cell_type": "code",
   "execution_count": 37,
   "metadata": {},
   "outputs": [
    {
     "name": "stdout",
     "output_type": "stream",
     "text": [
      "Enter your email :user@domain.com\n",
      "Your domain :  domain.com\n"
     ]
    }
   ],
   "source": [
    "def grab(email):\n",
    "    print(\"Your domain : \",email[email.find(\"@\")+1:])\n",
    "    \n",
    "email= input(\"Enter your email :\")\n",
    "grab(email)"
   ]
  },
  {
   "cell_type": "code",
   "execution_count": null,
   "metadata": {},
   "outputs": [],
   "source": []
  },
  {
   "cell_type": "code",
   "execution_count": 38,
   "metadata": {},
   "outputs": [],
   "source": [
    "# 8. Create a basic function that returns True if the word 'dog' is contained in the input string. \n",
    "#     Don't worry about edge cases like a punctuation being attached to the word dog, but do account for capitalization."
   ]
  },
  {
   "cell_type": "code",
   "execution_count": 50,
   "metadata": {},
   "outputs": [
    {
     "name": "stdout",
     "output_type": "stream",
     "text": [
      "Enter your string : That dog is so cute\n",
      "True\n"
     ]
    }
   ],
   "source": [
    "def check(str):\n",
    "    if 'dog' in str:\n",
    "        print(\"True\")\n",
    "    else:\n",
    "        print(\"False\")\n",
    "\n",
    "str = input(\"Enter your string : \")\n",
    "check(str.lower())"
   ]
  },
  {
   "cell_type": "code",
   "execution_count": null,
   "metadata": {},
   "outputs": [],
   "source": []
  },
  {
   "cell_type": "code",
   "execution_count": 51,
   "metadata": {},
   "outputs": [],
   "source": [
    "# 9. Use lambda expressions and the filter() function to filter out words from a list that don't start with the letter 's'.\n",
    "#     For example:\n",
    "#     seq = ['soup','dog','salad','cat','great']\n",
    "#     should be filtered down to:    ['soup','salad']\n"
   ]
  },
  {
   "cell_type": "code",
   "execution_count": 70,
   "metadata": {},
   "outputs": [
    {
     "data": {
      "text/plain": [
       "['soup', 'salad']"
      ]
     },
     "execution_count": 70,
     "metadata": {},
     "output_type": "execute_result"
    }
   ],
   "source": [
    "seq = ['soup','dog','salad','cat','great']\n",
    "\n",
    "list(filter(lambda x : x[0]=='s',seq))\n"
   ]
  },
  {
   "cell_type": "code",
   "execution_count": null,
   "metadata": {},
   "outputs": [],
   "source": []
  },
  {
   "cell_type": "code",
   "execution_count": 78,
   "metadata": {},
   "outputs": [],
   "source": [
    "# 10. You are driving a little too fast, and a police officer stops you. Write a function\n",
    "#       to return one of 3 possible results: \"No ticket\", \"Small ticket\", or \"Big Ticket\". \n",
    "#       If your speed is 60 or less, the result is \"No Ticket\". If speed is between 61 \n",
    "#       and 80 inclusive, the result is \"Small Ticket\". If speed is 81 or more, the result is \"Big    Ticket\".\n",
    "#      Unless it is your birthday (encoded as a boolean value in the parameters of the function) --\n",
    "#      on your birthday, your speed can be 5 higher in all cases. "
   ]
  },
  {
   "cell_type": "code",
   "execution_count": 91,
   "metadata": {},
   "outputs": [
    {
     "name": "stdout",
     "output_type": "stream",
     "text": [
      "Speed of car : 83\n",
      "Enter your DOB (DD/MM/YYYY) :12/05/1999\n",
      "Small ticket\n"
     ]
    }
   ],
   "source": [
    "def checking(sp,bday):\n",
    "    if bday=='12/05/1999':\n",
    "        s=sp-5\n",
    "    else:\n",
    "        s=sp\n",
    "    if s<=60:\n",
    "        print(\"No ticket\")\n",
    "    elif s>61 and s<=80:\n",
    "        print(\"Small ticket\")\n",
    "    else:\n",
    "        print(\"Big ticket\")\n",
    "        \n",
    "sp = int(input(\"Speed of car : \"))\n",
    "bd = input(\"Enter your DOB (DD/MM/YYYY) :\")\n",
    "checking(sp,bd)        "
   ]
  },
  {
   "cell_type": "code",
   "execution_count": null,
   "metadata": {},
   "outputs": [],
   "source": []
  }
 ],
 "metadata": {
  "kernelspec": {
   "display_name": "Python 3",
   "language": "python",
   "name": "python3"
  },
  "language_info": {
   "codemirror_mode": {
    "name": "ipython",
    "version": 3
   },
   "file_extension": ".py",
   "mimetype": "text/x-python",
   "name": "python",
   "nbconvert_exporter": "python",
   "pygments_lexer": "ipython3",
   "version": "3.7.3"
  }
 },
 "nbformat": 4,
 "nbformat_minor": 2
}
